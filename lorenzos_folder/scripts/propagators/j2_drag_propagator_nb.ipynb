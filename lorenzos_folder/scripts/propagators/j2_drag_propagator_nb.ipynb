{
 "cells": [
  {
   "cell_type": "code",
   "execution_count": 2,
   "metadata": {},
   "outputs": [],
   "source": [
    "from astropy import units as u\n",
    "from astropy.time import Time\n",
    "\n",
    "from poliastro.bodies import Earth\n",
    "from poliastro.constants import rho0_earth, H0_earth\n",
    "from poliastro.twobody import Orbit\n",
    "from poliastro.twobody.propagation import CowellPropagator\n",
    "from poliastro.core.perturbations import J2_perturbation\n",
    "from poliastro.core.propagation import func_twobody \n",
    "from poliastro.util import Time\n",
    "#from poliastro.plotting import OrbitPlotter2D\n",
    "\n",
    "\n",
    "#from pyatmos import expo, jb2008\n",
    "\n",
    "#from numba import njit as jit\n",
    "\n",
    "import pandas as pd\n",
    "import numpy as np\n",
    "\n",
    "import matplotlib.pyplot as plt"
   ]
  },
  {
   "cell_type": "code",
   "execution_count": null,
   "metadata": {},
   "outputs": [],
   "source": []
  }
 ],
 "metadata": {
  "kernelspec": {
   "display_name": "Python 3",
   "language": "python",
   "name": "python3"
  },
  "language_info": {
   "codemirror_mode": {
    "name": "ipython",
    "version": 3
   },
   "file_extension": ".py",
   "mimetype": "text/x-python",
   "name": "python",
   "nbconvert_exporter": "python",
   "pygments_lexer": "ipython3",
   "version": "3.9.10"
  }
 },
 "nbformat": 4,
 "nbformat_minor": 2
}
