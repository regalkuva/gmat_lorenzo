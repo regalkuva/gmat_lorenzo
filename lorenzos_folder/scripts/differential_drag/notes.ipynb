{
 "cells": [
  {
   "cell_type": "code",
   "execution_count": 1,
   "metadata": {},
   "outputs": [
    {
     "name": "stdout",
     "output_type": "stream",
     "text": [
      "Semimajor axis = 6992.738749372226 km\n"
     ]
    }
   ],
   "source": [
    "## SEMIMAJOR AXIS CALCULATOR FROM TLE\n",
    "\n",
    "import math\n",
    "\n",
    "mu = 3.986004418e5     # geocentric gravitational constant [km^3s]\n",
    "n  = 14.84676407       # mean motion [revolutions per day], only needed input from TLE\n",
    "                       # n_in = 15.26140049;   n_f = 16.48838571     \n",
    "sma = pow(mu,1/3) / pow(2*n*math.pi/86400,2/3)     # semimajor axis [km]\n",
    "\n",
    "print (\"Semimajor axis =\",sma,\"km\")"
   ]
  },
  {
   "cell_type": "code",
   "execution_count": 2,
   "metadata": {},
   "outputs": [
    {
     "name": "stdout",
     "output_type": "stream",
     "text": [
      "Semimajor axis = 6991.158850232184 km\n"
     ]
    }
   ],
   "source": [
    "import math\n",
    "\n",
    "mu = 3.986004418e5     # geocentric gravitational constant [km^3s]\n",
    "n  = 14.85179708       # mean motion [revolutions per day], only needed input from TLE\n",
    "                       # n_in = 15.26140049;   n_f = 16.48838571     \n",
    "sma = pow(mu,1/3) / pow(2*n*math.pi/86400,2/3)     # semimajor axis [km]\n",
    "\n",
    "print (\"Semimajor axis =\",sma,\"km\")"
   ]
  },
  {
   "cell_type": "code",
   "execution_count": 3,
   "metadata": {},
   "outputs": [
    {
     "name": "stdout",
     "output_type": "stream",
     "text": [
      "Semimajor axis = 6993.791996316878 km\n"
     ]
    }
   ],
   "source": [
    "import math\n",
    "\n",
    "mu = 3.986004418e5     # geocentric gravitational constant [km^3s]\n",
    "n  = 14.84341037       # mean motion [revolutions per day], only needed input from TLE\n",
    "                       # n_in = 15.26140049;   n_f = 16.48838571     \n",
    "sma = pow(mu,1/3) / pow(2*n*math.pi/86400,2/3)     # semimajor axis [km]\n",
    "\n",
    "print (\"Semimajor axis =\",sma,\"km\")"
   ]
  },
  {
   "cell_type": "code",
   "execution_count": 4,
   "metadata": {},
   "outputs": [
    {
     "name": "stdout",
     "output_type": "stream",
     "text": [
      "Semimajor axis = 6994.082482348014 km\n"
     ]
    }
   ],
   "source": [
    "import math\n",
    "\n",
    "mu = 3.986004418e5     # geocentric gravitational constant [km^3s]\n",
    "n  = 14.84248564       # mean motion [revolutions per day], only needed input from TLE\n",
    "                       # n_in = 15.26140049;   n_f = 16.48838571     \n",
    "sma = pow(mu,1/3) / pow(2*n*math.pi/86400,2/3)     # semimajor axis [km]\n",
    "\n",
    "print (\"Semimajor axis =\",sma,\"km\")"
   ]
  },
  {
   "cell_type": "code",
   "execution_count": 1,
   "metadata": {},
   "outputs": [
    {
     "name": "stdout",
     "output_type": "stream",
     "text": [
      "0\n",
      "1\n"
     ]
    }
   ],
   "source": [
    "for i in range(2):\n",
    "    print(i)"
   ]
  },
  {
   "cell_type": "code",
   "execution_count": 8,
   "metadata": {},
   "outputs": [
    {
     "name": "stdout",
     "output_type": "stream",
     "text": [
      "6865.501217185898 km\n",
      "0.0016628\n",
      "325.3203 deg\n",
      "6865.482234735219 km\n",
      "97.4864 deg\n",
      "39.164 deg\n",
      "126.35556786662289 deg\n"
     ]
    }
   ],
   "source": [
    "from tletools import TLE\n",
    "def coe_from_tle(tle_string):\n",
    "    tle_lines = tle_string.strip().splitlines()\n",
    "    tle = TLE.from_lines(*tle_lines)\n",
    "    orbit = tle.to_orbit()\n",
    "    return orbit\n",
    "tle_string = \"\"\"\n",
    "patt\n",
    "1 43743U 18096AA  18334.16184664 -.00000075  00000-0  00000+0 0  9992\n",
    "2 43743  97.4864  39.1640 0016628 325.3203 126.2020 15.26140049   145\n",
    "\"\"\"\n",
    "orbit = coe_from_tle(tle_string)\n",
    "print(orbit.a)\n",
    "print(orbit.ecc)\n",
    "print(orbit.inc)\n",
    "print(orbit.raan)\n",
    "print(orbit.argp)\n",
    "print(orbit.nu)"
   ]
  },
  {
   "cell_type": "code",
   "execution_count": 9,
   "metadata": {},
   "outputs": [
    {
     "data": {
      "text/plain": [
       "6854 x 6877 km x 97.5 deg (GCRS) orbit around Earth (♁) at epoch 2018-11-30T03:53:03.549696000 (UTC)"
      ]
     },
     "execution_count": 9,
     "metadata": {},
     "output_type": "execute_result"
    }
   ],
   "source": [
    "orbit"
   ]
  },
  {
   "cell_type": "code",
   "execution_count": 5,
   "metadata": {},
   "outputs": [
    {
     "data": {
      "text/plain": [
       "9000.0"
      ]
     },
     "execution_count": 5,
     "metadata": {},
     "output_type": "execute_result"
    }
   ],
   "source": [
    "9*1e3\n"
   ]
  },
  {
   "cell_type": "code",
   "execution_count": 3,
   "metadata": {},
   "outputs": [],
   "source": [
    "import time\n",
    "\n",
    "import numpy as np\n",
    "\n",
    "from astropy import units as u\n",
    "from astropy.time import Time, TimeDelta\n",
    "\n",
    "from poliastro.bodies import Earth\n",
    "from poliastro.twobody import Orbit\n",
    "from poliastro.constants import R_earth\n",
    "from poliastro.twobody.sampling import EpochsArray\n",
    "from poliastro.twobody.propagation import CowellPropagator\n",
    "\n",
    "import matplotlib.pyplot as plt\n",
    "from poliastro.plotting import OrbitPlotter3D\n",
    "\n",
    "from datetime import datetime\n",
    "from osc2mean_dd import osc2mean\n",
    "from sso_inc import inc_from_alt, raan_from_ltan, argl_difference\n",
    "from perturbations import perturbations_coesa_J2_low, perturbations_coesa_J2_high\n",
    "\n",
    "toc = time.time()\n",
    "\n",
    "## Input parameters\n",
    "h = 510\n",
    "delta_a = 0.5    # delta_a always is a positive value\n",
    "delta_nu = -1   # reasonably, delta_nu should be a negative value\n",
    "assignment = 336%360\n",
    "\n",
    "## Orbital data\n",
    "start_date = datetime(2024,1,1,9,0,0)\n",
    "ltan = 22.5\n",
    "\n",
    "a = (R_earth.value/1000 + h) << u.km\n",
    "ecc = 1e-6 << u.one\n",
    "inc = inc_from_alt(h,ecc)[0] << u.deg   \n",
    "raan = raan_from_ltan(Time(val=datetime.timestamp(start_date), format='unix'),ltan) << u.deg\n",
    "argp = 1e-6 << u.deg\n",
    "nu = 1e-6 << u.deg\n",
    "\n",
    "epoch = Time(val=start_date.isoformat(), format='isot')\n",
    "\n",
    "\n",
    "reference_orbit_0 = Orbit.from_classical(\n",
    "    Earth,\n",
    "    a,\n",
    "    ecc,\n",
    "    inc,\n",
    "    raan,\n",
    "    argp,\n",
    "    nu,\n",
    "    epoch\n",
    "    )\n",
    "trailing_orbit_0 = Orbit.from_classical(\n",
    "    Earth,\n",
    "    (a.value+delta_a)<<u.km,\n",
    "    ecc,\n",
    "    inc.to(u.rad),\n",
    "    raan.to(u.rad),\n",
    "    argp.to(u.rad),\n",
    "    ((nu.value+delta_nu)<<u.deg).to(u.rad),\n",
    "    epoch\n",
    "    )"
   ]
  },
  {
   "cell_type": "code",
   "execution_count": 4,
   "metadata": {},
   "outputs": [
    {
     "data": {
      "text/latex": [
       "$97.429198 \\; \\mathrm{{}^{\\circ}}$"
      ],
      "text/plain": [
       "<Quantity 97.42919772 deg>"
      ]
     },
     "execution_count": 4,
     "metadata": {},
     "output_type": "execute_result"
    }
   ],
   "source": [
    "reference_orbit_0.inc"
   ]
  },
  {
   "cell_type": "code",
   "execution_count": null,
   "metadata": {},
   "outputs": [],
   "source": []
  }
 ],
 "metadata": {
  "kernelspec": {
   "display_name": "Python 3",
   "language": "python",
   "name": "python3"
  },
  "language_info": {
   "codemirror_mode": {
    "name": "ipython",
    "version": 3
   },
   "file_extension": ".py",
   "mimetype": "text/x-python",
   "name": "python",
   "nbconvert_exporter": "python",
   "pygments_lexer": "ipython3",
   "version": "3.9.10"
  }
 },
 "nbformat": 4,
 "nbformat_minor": 2
}
