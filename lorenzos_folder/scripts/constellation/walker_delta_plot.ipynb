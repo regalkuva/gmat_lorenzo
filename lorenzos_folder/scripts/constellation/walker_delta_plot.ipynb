{
 "cells": [
  {
   "cell_type": "code",
   "execution_count": 7,
   "metadata": {},
   "outputs": [
    {
     "name": "stdout",
     "output_type": "stream",
     "text": [
      "\n",
      "--- WALKER DELTA CONSTELLATION --- [process start: Wed Mar 20 12:13:38 2024]\n",
      "\n"
     ]
    },
    {
     "name": "stderr",
     "output_type": "stream",
     "text": [
      "c:\\Users\\Lorenzo\\AppData\\Local\\Programs\\Python\\Python39\\lib\\site-packages\\astropy\\units\\decorators.py:313: UserWarning:\n",
      "\n",
      "Wrapping true anomaly to -π <= nu < π\n",
      "\n"
     ]
    },
    {
     "name": "stdout",
     "output_type": "stream",
     "text": [
      "\n",
      "Process finished --- 94\n"
     ]
    },
    {
     "ename": "AttributeError",
     "evalue": "'OrbitPlotter3D' object has no attribute 'savefig'",
     "output_type": "error",
     "traceback": [
      "\u001b[1;31m---------------------------------------------------------------------------\u001b[0m",
      "\u001b[1;31mAttributeError\u001b[0m                            Traceback (most recent call last)",
      "Cell \u001b[1;32mIn[7], line 74\u001b[0m\n\u001b[0;32m     71\u001b[0m     orbita_0 \u001b[38;5;241m=\u001b[39m Orbit\u001b[38;5;241m.\u001b[39mfrom_ephem(Earth, sats_orbit_list[sat], sats_orbit_list[\u001b[38;5;241m0\u001b[39m]\u001b[38;5;241m.\u001b[39mepochs[\u001b[38;5;241m0\u001b[39m])\n\u001b[0;32m     72\u001b[0m     frame\u001b[38;5;241m.\u001b[39mplot(orbita_0)\n\u001b[1;32m---> 74\u001b[0m \u001b[43mframe\u001b[49m\u001b[38;5;241;43m.\u001b[39;49m\u001b[43msavefig\u001b[49m( \u001b[38;5;124m\"\u001b[39m\u001b[38;5;124mTwo-Body Trajectory (3D View) for .png\u001b[39m\u001b[38;5;124m\"\u001b[39m )\n\u001b[0;32m     75\u001b[0m frame\u001b[38;5;241m.\u001b[39mshow()   \u001b[38;5;66;03m# works only in Jupyter\u001b[39;00m\n",
      "\u001b[1;31mAttributeError\u001b[0m: 'OrbitPlotter3D' object has no attribute 'savefig'"
     ]
    }
   ],
   "source": [
    "## Walker Delta constellation propagator under Keplerian assumptions\n",
    "\n",
    "from astropy import units as u\n",
    "from astropy.time import TimeDelta\n",
    "from astropy import coordinates as coord\n",
    "\n",
    "from poliastro.util import Time\n",
    "from poliastro.bodies import Earth\n",
    "from poliastro.twobody import Orbit\n",
    "from poliastro.twobody.sampling import EpochsArray\n",
    "from poliastro.twobody.propagation import CowellPropagator\n",
    "\n",
    "\n",
    "from inc_from_smaecc import required_inc\n",
    "\n",
    "import numpy as np\n",
    "import time\n",
    "\n",
    "from poliastro.plotting import OrbitPlotter3D\n",
    "from matplotlib import pyplot as plt\n",
    "\n",
    "# 3 planes, 90 satellite, wd: i:90/3/5, 380km SSO \n",
    "\n",
    "process_start_time = time.time()   # start time (instant) of python code\n",
    "start_date_time = time.ctime()  # start time (clock) of python code\n",
    "print(f'\\n--- WALKER DELTA CONSTELLATION --- [process start: {start_date_time}]\\n')\n",
    "\n",
    "R = (Earth.R).to(u.km)\n",
    "\n",
    "alt = 380 * u.km\n",
    "a   = R + alt\n",
    "ecc = 0.001 * u.one\n",
    "inc = required_inc(a.value, ecc.value) * u.deg\n",
    "argp = 0 * u.deg\n",
    "\n",
    "start_date = Time(\"2023-01-01 00:00:00.000\", scale = \"utc\")\n",
    "\n",
    "time_frame = 1 * u.day   #float(input('Time frame [days]: ')) * u.day\n",
    "time_step  = 1 * u.s #float(input('Time step [sec]: ')) * u.s\n",
    "\n",
    "number = int(time_frame.to_value(u.s) / time_step.value)\n",
    "tofs = TimeDelta(np.linspace(0, time_frame, num=number))\n",
    "\n",
    "# sensor parameters\n",
    "sw = 50 * 0.5 # [km]\n",
    "\n",
    "# Walker Delta pattern --> inc:t/p/f\n",
    "t = 90     # total number of satellites\n",
    "p = 3      # orbital planes\n",
    "f = 1   # phasing parameter\n",
    "delta_nu = f * 360 / t \n",
    "s = int(t/p)   # satellites per orbit\n",
    "\n",
    "sats_orbit_list = []\n",
    "for plane in range(p):\n",
    "    raan = (plane * 360 /p) * u.deg\n",
    "\n",
    "    for sat in range(s):\n",
    "        nu = (sat*360/s + delta_nu*plane) * u.deg\n",
    "        orbit_0 = Orbit.from_classical(Earth, a, ecc, inc, raan, argp, nu, start_date)\n",
    "        ephem = orbit_0.to_ephem(EpochsArray(start_date + tofs, method=CowellPropagator(rtol=1e-5)))\n",
    "        sats_orbit_list.append(ephem)\n",
    "\n",
    "\n",
    "print(f'\\nProcess finished --- {int(time.time() - process_start_time)}')\n",
    "\n",
    "# plot\n",
    "frame = OrbitPlotter3D()\n",
    "\n",
    "for sat in range(t):\n",
    "    orbita_0 = Orbit.from_ephem(Earth, sats_orbit_list[sat], sats_orbit_list[0].epochs[0])\n",
    "    frame.plot(orbita_0)\n",
    "    \n",
    "frame.savefig( \"Two-Body Trajectory (3D View) for .png\" )\n",
    "frame.show()   # works only in Jupyter"
   ]
  },
  {
   "cell_type": "code",
   "execution_count": null,
   "metadata": {},
   "outputs": [],
   "source": []
  }
 ],
 "metadata": {
  "kernelspec": {
   "display_name": "Python 3",
   "language": "python",
   "name": "python3"
  },
  "language_info": {
   "codemirror_mode": {
    "name": "ipython",
    "version": 3
   },
   "file_extension": ".py",
   "mimetype": "text/x-python",
   "name": "python",
   "nbconvert_exporter": "python",
   "pygments_lexer": "ipython3",
   "version": "3.9.10"
  }
 },
 "nbformat": 4,
 "nbformat_minor": 2
}
